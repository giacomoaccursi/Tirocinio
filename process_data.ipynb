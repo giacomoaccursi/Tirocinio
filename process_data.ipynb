{
  "nbformat": 4,
  "nbformat_minor": 0,
  "metadata": {
    "colab": {
      "name": "process_data.ipynb",
      "provenance": [],
      "collapsed_sections": [],
      "authorship_tag": "ABX9TyNIjGz3mHLK2YdqNt1T9/zi",
      "include_colab_link": true
    },
    "kernelspec": {
      "name": "python3",
      "display_name": "Python 3"
    },
    "language_info": {
      "name": "python"
    }
  },
  "cells": [
    {
      "cell_type": "markdown",
      "metadata": {
        "id": "view-in-github",
        "colab_type": "text"
      },
      "source": [
        "<a href=\"https://colab.research.google.com/github/giacomoaccursi/Tirocinio/blob/main/process_data.ipynb\" target=\"_parent\"><img src=\"https://colab.research.google.com/assets/colab-badge.svg\" alt=\"Open In Colab\"/></a>"
      ]
    },
    {
      "cell_type": "code",
      "metadata": {
        "colab": {
          "base_uri": "https://localhost:8080/"
        },
        "id": "J5d3DE0nuybj",
        "outputId": "cffb1eae-914e-43ca-903d-eeba7a97100c"
      },
      "source": [
        "!git clone https://github.com/giacomoaccursi/Tirocinio.git"
      ],
      "execution_count": null,
      "outputs": [
        {
          "output_type": "stream",
          "text": [
            "Cloning into 'Tirocinio'...\n",
            "remote: Enumerating objects: 16840, done.\u001b[K\n",
            "remote: Counting objects: 100% (16840/16840), done.\u001b[K\n",
            "remote: Compressing objects: 100% (16833/16833), done.\u001b[K\n",
            "remote: Total 16840 (delta 5), reused 16829 (delta 4), pack-reused 0\u001b[K\n",
            "Receiving objects: 100% (16840/16840), 7.03 MiB | 14.82 MiB/s, done.\n",
            "Resolving deltas: 100% (5/5), done.\n"
          ],
          "name": "stdout"
        }
      ]
    },
    {
      "cell_type": "code",
      "metadata": {
        "id": "qIkFKr-2Km0B"
      },
      "source": [
        "import json\n",
        "import numpy as np\n",
        "import pandas as pd"
      ],
      "execution_count": null,
      "outputs": []
    },
    {
      "cell_type": "code",
      "metadata": {
        "id": "gFryVgFP4j1f"
      },
      "source": [
        "from os import listdir\n",
        "from os.path import isfile, join\n",
        "#lista tutti i file dato un percorso\n",
        "def list_all_files(input_path):\n",
        "  files = [join(input_path, f) for f in listdir(input_path) if isfile(join(input_path, f))]\n",
        "  return list(zip(files, listdir(input_path)))\n",
        "\n",
        "def list_all_in_dir(input_path):\n",
        "  files = [join(input_path, f) for f in listdir(input_path)]\n",
        "  return files"
      ],
      "execution_count": null,
      "outputs": []
    },
    {
      "cell_type": "code",
      "metadata": {
        "id": "z2SDEqSmK02T"
      },
      "source": [
        "#dati due vettori restituisce la similarità coseno\n",
        "def cosine_sim(a, b): \n",
        "  dot = np.dot(a, b)\n",
        "  normA = np.linalg.norm(a)\n",
        "  normB = np.linalg.norm(b)\n",
        "  if normA == 0 or normB == 0: \n",
        "    return 0\n",
        "  return dot / (normA * normB)\n",
        "  "
      ],
      "execution_count": null,
      "outputs": []
    },
    {
      "cell_type": "code",
      "metadata": {
        "id": "npZ6VUZHK39U"
      },
      "source": [
        "#estrae i dati dal file json\n",
        "def extract_json_detection(file):\n",
        "  with open(file, 'r') as f:\n",
        "    data = json.load(f)\n",
        "    data = data[\"people\"][0][\"pose_keypoints_2d\"]\n",
        "  return data"
      ],
      "execution_count": null,
      "outputs": []
    },
    {
      "cell_type": "code",
      "metadata": {
        "id": "w_SLJzi7vGsv"
      },
      "source": [
        "def coordinate_from_data(data): \n",
        "  del data[2:75:3] \n",
        "  new_data = [ [data[i], data[i+1]] for i in range(0, len(data), 2)]\n",
        "  return new_data"
      ],
      "execution_count": null,
      "outputs": []
    },
    {
      "cell_type": "code",
      "metadata": {
        "id": "k1TPqupKDVTW"
      },
      "source": [
        "def cosine_similarity_with_other_kp(detection):\n",
        "  cos_sim_vector = []\n",
        "  for kp in range(0, 25):\n",
        "    cos_sim_vector.append([cosine_sim(detection[kp], B) for B in detection])\n",
        "  return cos_sim_vector"
      ],
      "execution_count": null,
      "outputs": []
    },
    {
      "cell_type": "code",
      "metadata": {
        "id": "iVj0mut_K-6P"
      },
      "source": [
        "keypoints = np.arange(0, 25)\n",
        "video_data = []"
      ],
      "execution_count": null,
      "outputs": []
    },
    {
      "cell_type": "code",
      "metadata": {
        "id": "YiD9xTJygIVy"
      },
      "source": [
        "outputs = sorted(list_all_in_dir(\"/content/Tirocinio/video_output\"))\n",
        "for output in outputs:\n",
        "  print(output)\n",
        "  files = sorted(list_all_files(output))\n",
        "  vec = []\n",
        "  for file in files[:100]:\n",
        "    data = coordinate_from_data(extract_json_detection(file[0]))\n",
        "    vec.append(cosine_similarity_with_other_kp(data))\n",
        "  video_data.append(vec)"
      ],
      "execution_count": null,
      "outputs": []
    },
    {
      "cell_type": "code",
      "metadata": {
        "id": "Cj4K3g4Sz4wU"
      },
      "source": [
        "labels = []\n",
        "for output in outputs: \n",
        "  labels.append(output.split(\"_\")[-1])"
      ],
      "execution_count": null,
      "outputs": []
    },
    {
      "cell_type": "code",
      "metadata": {
        "id": "oZFuqZSKZ7Hr"
      },
      "source": [
        "labels = np.array(labels)"
      ],
      "execution_count": null,
      "outputs": []
    },
    {
      "cell_type": "code",
      "metadata": {
        "id": "muwnGoxt0E7z"
      },
      "source": [
        "video_data = np.array(video_data)"
      ],
      "execution_count": null,
      "outputs": []
    },
    {
      "cell_type": "code",
      "metadata": {
        "id": "4xtjsdiB-j7z"
      },
      "source": [
        "from tensorflow.keras.utils import to_categorical\n",
        "labels = to_categorical(labels)"
      ],
      "execution_count": null,
      "outputs": []
    },
    {
      "cell_type": "code",
      "metadata": {
        "id": "uqhxZb630GyH"
      },
      "source": [
        "from sklearn.model_selection import train_test_split\n",
        "\n",
        "(X_train, X_test, y_train, y_test) = train_test_split(video_data, labels,\n",
        "\ttest_size=0.25, stratify=labels, random_state=42)"
      ],
      "execution_count": null,
      "outputs": []
    },
    {
      "cell_type": "code",
      "metadata": {
        "id": "pIBfTFEH0JkT"
      },
      "source": [
        "from tensorflow.keras.models import Sequential\n",
        "from tensorflow.keras.layers import Dense, Flatten, Conv1D\n",
        "\n",
        "model = Sequential([\n",
        "                    Conv1D(16, 15, input_shape=(X_train.shape[1], X_train.shape[2], X_train.shape[3])), \n",
        "                    Flatten(), \n",
        "                    Dense(128, activation = \"relu\"), \n",
        "                    Dense(128, activation = \"relu\"), \n",
        "                    Dense(128, activation = \"relu\"), \n",
        "                    Dense(y_train.shape[1], activation = \"softmax\")\n",
        "])"
      ],
      "execution_count": null,
      "outputs": []
    },
    {
      "cell_type": "code",
      "metadata": {
        "id": "6lftQiXU0Lz2"
      },
      "source": [
        "model.compile(loss=\"categorical_crossentropy\", optimizer=\"adam\", metrics=[\"accuracy\"])"
      ],
      "execution_count": null,
      "outputs": []
    },
    {
      "cell_type": "code",
      "metadata": {
        "id": "aEkGdxsM0Oa5",
        "colab": {
          "base_uri": "https://localhost:8080/"
        },
        "outputId": "3b18a9d0-b5da-4f2c-a814-a1eb0f243e49"
      },
      "source": [
        "history = model.fit(X_train, y_train, epochs=15, batch_size=20, validation_data=(X_test, y_test))"
      ],
      "execution_count": null,
      "outputs": [
        {
          "output_type": "stream",
          "text": [
            "Epoch 1/15\n",
            "4/4 [==============================] - 2s 294ms/step - loss: 2.5316 - accuracy: 0.5620 - val_loss: 0.4494 - val_accuracy: 0.9565\n",
            "Epoch 2/15\n",
            "4/4 [==============================] - 0s 89ms/step - loss: 0.8102 - accuracy: 0.8142 - val_loss: 0.1635 - val_accuracy: 0.9565\n",
            "Epoch 3/15\n",
            "4/4 [==============================] - 0s 96ms/step - loss: 0.1591 - accuracy: 0.9374 - val_loss: 0.0297 - val_accuracy: 1.0000\n",
            "Epoch 4/15\n",
            "4/4 [==============================] - 0s 94ms/step - loss: 0.0225 - accuracy: 0.9906 - val_loss: 0.1009 - val_accuracy: 0.9565\n",
            "Epoch 5/15\n",
            "4/4 [==============================] - 0s 89ms/step - loss: 0.0231 - accuracy: 1.0000 - val_loss: 0.0228 - val_accuracy: 1.0000\n",
            "Epoch 6/15\n",
            "4/4 [==============================] - 0s 91ms/step - loss: 0.0143 - accuracy: 1.0000 - val_loss: 0.0726 - val_accuracy: 0.9565\n",
            "Epoch 7/15\n",
            "4/4 [==============================] - 0s 88ms/step - loss: 0.0297 - accuracy: 0.9906 - val_loss: 0.0393 - val_accuracy: 0.9565\n",
            "Epoch 8/15\n",
            "4/4 [==============================] - 0s 90ms/step - loss: 0.0098 - accuracy: 1.0000 - val_loss: 0.0340 - val_accuracy: 0.9565\n",
            "Epoch 9/15\n",
            "4/4 [==============================] - 0s 118ms/step - loss: 0.0029 - accuracy: 1.0000 - val_loss: 0.0029 - val_accuracy: 1.0000\n",
            "Epoch 10/15\n",
            "4/4 [==============================] - 0s 85ms/step - loss: 0.0023 - accuracy: 1.0000 - val_loss: 0.0030 - val_accuracy: 1.0000\n",
            "Epoch 11/15\n",
            "4/4 [==============================] - 0s 103ms/step - loss: 8.1662e-04 - accuracy: 1.0000 - val_loss: 0.0138 - val_accuracy: 1.0000\n",
            "Epoch 12/15\n",
            "4/4 [==============================] - 0s 107ms/step - loss: 6.8572e-04 - accuracy: 1.0000 - val_loss: 0.0200 - val_accuracy: 1.0000\n",
            "Epoch 13/15\n",
            "4/4 [==============================] - 0s 94ms/step - loss: 0.0010 - accuracy: 1.0000 - val_loss: 0.0059 - val_accuracy: 1.0000\n",
            "Epoch 14/15\n",
            "4/4 [==============================] - 0s 109ms/step - loss: 1.8591e-04 - accuracy: 1.0000 - val_loss: 0.0022 - val_accuracy: 1.0000\n",
            "Epoch 15/15\n",
            "4/4 [==============================] - 0s 98ms/step - loss: 1.9729e-04 - accuracy: 1.0000 - val_loss: 0.0014 - val_accuracy: 1.0000\n"
          ],
          "name": "stdout"
        }
      ]
    },
    {
      "cell_type": "code",
      "metadata": {
        "colab": {
          "base_uri": "https://localhost:8080/",
          "height": 300
        },
        "id": "37NAfopx_jj1",
        "outputId": "aff8cec1-ee30-423f-a777-8cba9d931b0d"
      },
      "source": [
        "import matplotlib.pyplot as plt\n",
        " \n",
        "plt.plot(history.history['accuracy'], label='accuracy')\n",
        "plt.plot(history.history['val_accuracy'], label = 'val_accuracy')\n",
        "plt.xlabel('Epoch')\n",
        "plt.ylabel('Accuracy')\n",
        "plt.ylim([0.5, 1])\n",
        "plt.legend(loc='lower right')"
      ],
      "execution_count": null,
      "outputs": [
        {
          "output_type": "execute_result",
          "data": {
            "text/plain": [
              "<matplotlib.legend.Legend at 0x7fb7838a6810>"
            ]
          },
          "metadata": {
            "tags": []
          },
          "execution_count": 19
        },
        {
          "output_type": "display_data",
          "data": {
            "image/png": "[encoded data removed]",
            "text/plain": [
              "<Figure size 432x288 with 1 Axes>"
            ]
          },
          "metadata": {
            "tags": [],
            "needs_background": "light"
          }
        }
      ]
    },
    {
      "cell_type": "code",
      "metadata": {
        "id": "faVXfiUS_k34"
      },
      "source": [
        "y_pred = model.predict(X_test)\n",
        "y_pred = [np.argmax(i) for i in y_pred]\n",
        "y_real = [np.argmax(i) for i in y_test]"
      ],
      "execution_count": null,
      "outputs": []
    },
    {
      "cell_type": "code",
      "metadata": {
        "colab": {
          "base_uri": "https://localhost:8080/"
        },
        "id": "T7YfAjz8GZeu",
        "outputId": "23f81f5b-bf8b-4dfe-9847-abcd6eb448a1"
      },
      "source": [
        "from sklearn.metrics import confusion_matrix, f1_score, classification_report\n",
        "confusion_matrix(y_real, y_pred)"
      ],
      "execution_count": null,
      "outputs": [
        {
          "output_type": "execute_result",
          "data": {
            "text/plain": [
              "array([[14,  0],\n",
              "       [ 0,  9]])"
            ]
          },
          "metadata": {
            "tags": []
          },
          "execution_count": 21
        }
      ]
    },
    {
      "cell_type": "code",
      "metadata": {
        "colab": {
          "base_uri": "https://localhost:8080/"
        },
        "id": "qDmeK7Q_GkDP",
        "outputId": "e9a8936f-4b21-4c8e-c1ee-25cdd8e9ecfc"
      },
      "source": [
        "print(classification_report(y_real, y_pred))"
      ],
      "execution_count": null,
      "outputs": [
        {
          "output_type": "stream",
          "text": [
            "              precision    recall  f1-score   support\n",
            "\n",
            "           0       1.00      1.00      1.00        14\n",
            "           1       1.00      1.00      1.00         9\n",
            "\n",
            "    accuracy                           1.00        23\n",
            "   macro avg       1.00      1.00      1.00        23\n",
            "weighted avg       1.00      1.00      1.00        23\n",
            "\n"
          ],
          "name": "stdout"
        }
      ]
    },
    {
      "cell_type": "code",
      "metadata": {
        "id": "jbU0XFSYROSU"
      },
      "source": [
        ""
      ],
      "execution_count": null,
      "outputs": []
    }
  ]
}