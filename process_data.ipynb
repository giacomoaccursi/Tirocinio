{
  "nbformat": 4,
  "nbformat_minor": 0,
  "metadata": {
    "colab": {
      "name": "process_data.ipynb",
      "provenance": [],
      "collapsed_sections": [],
      "authorship_tag": "ABX9TyOc2r5KbO+KsZ1pC2L63DrH",
      "include_colab_link": true
    },
    "kernelspec": {
      "name": "python3",
      "display_name": "Python 3"
    },
    "language_info": {
      "name": "python"
    }
  },
  "cells": [
    {
      "cell_type": "markdown",
      "metadata": {
        "id": "view-in-github",
        "colab_type": "text"
      },
      "source": [
        "<a href=\"https://colab.research.google.com/github/giacomoaccursi/Tirocinio/blob/main/process_data.ipynb\" target=\"_parent\"><img src=\"https://colab.research.google.com/assets/colab-badge.svg\" alt=\"Open In Colab\"/></a>"
      ]
    },
    {
      "cell_type": "code",
      "metadata": {
        "colab": {
          "base_uri": "https://localhost:8080/"
        },
        "id": "J5d3DE0nuybj",
        "outputId": "18a573e9-d473-43a3-b6bc-27f7d3967aba"
      },
      "source": [
        "!git clone https://github.com/giacomoaccursi/Tirocinio.git"
      ],
      "execution_count": 15,
      "outputs": [
        {
          "output_type": "stream",
          "text": [
            "Cloning into 'video_output'...\n",
            "fatal: repository 'https://github.com/giacomoaccursi/Tirocinio/tree/main/video_output/' not found\n"
          ],
          "name": "stdout"
        }
      ]
    },
    {
      "cell_type": "code",
      "metadata": {
        "colab": {
          "base_uri": "https://localhost:8080/"
        },
        "id": "2S6Jc_1a4S5Z",
        "outputId": "8dec8063-ce72-4895-f197-86f22ca4444a"
      },
      "source": [
        "from google.colab import drive\n",
        "drive.mount('/content/drive')"
      ],
      "execution_count": 1,
      "outputs": [
        {
          "output_type": "stream",
          "text": [
            "Mounted at /content/drive\n"
          ],
          "name": "stdout"
        }
      ]
    },
    {
      "cell_type": "code",
      "metadata": {
        "id": "qIkFKr-2Km0B"
      },
      "source": [
        "import json\n",
        "import numpy as np\n",
        "import pandas as pd"
      ],
      "execution_count": 16,
      "outputs": []
    },
    {
      "cell_type": "code",
      "metadata": {
        "id": "gFryVgFP4j1f"
      },
      "source": [
        "from os import listdir\n",
        "from os.path import isfile, join\n",
        "#lista tutti i file dato un percorso\n",
        "def list_all_files(input_path):\n",
        "  files = [join(input_path, f) for f in listdir(input_path) if isfile(join(input_path, f))]\n",
        "  return list(zip(files, listdir(input_path)))\n",
        "\n",
        "def list_all_in_dir(input_path):\n",
        "  files = [join(input_path, f) for f in listdir(input_path)]\n",
        "  return files"
      ],
      "execution_count": 17,
      "outputs": []
    },
    {
      "cell_type": "code",
      "metadata": {
        "id": "z2SDEqSmK02T"
      },
      "source": [
        "#dati due vettori restituisce la similarità coseno\n",
        "def cosine_sim(a, b): \n",
        "  dot = np.dot(a, b)\n",
        "  normA = np.linalg.norm(a)\n",
        "  normB = np.linalg.norm(b)\n",
        "  if normA == 0 or normB == 0: \n",
        "    return 0\n",
        "  return dot / (normA * normB)\n",
        "  "
      ],
      "execution_count": 18,
      "outputs": []
    },
    {
      "cell_type": "code",
      "metadata": {
        "id": "npZ6VUZHK39U"
      },
      "source": [
        "#estrae i dati dal file json\n",
        "def extract_json_detection(file):\n",
        "  with open(file, 'r') as f:\n",
        "    data = json.load(f)\n",
        "    data = data[\"people\"][0][\"pose_keypoints_2d\"]\n",
        "  return data"
      ],
      "execution_count": 19,
      "outputs": []
    },
    {
      "cell_type": "code",
      "metadata": {
        "id": "w_SLJzi7vGsv"
      },
      "source": [
        "def coordinate_from_data(data): \n",
        "  del data[2:75:3] \n",
        "  new_data = [ [data[i], data[i+1]] for i in range(0, len(data), 2)]\n",
        "  return new_data"
      ],
      "execution_count": 20,
      "outputs": []
    },
    {
      "cell_type": "code",
      "metadata": {
        "id": "k1TPqupKDVTW"
      },
      "source": [
        "def cosine_similarity_with_other_kp(detection):\n",
        "  cos_sim_vector = []\n",
        "  for kp in range(0, 25):\n",
        "    cos_sim_vector.append([cosine_sim(detection[kp], B) for B in detection])\n",
        "  return cos_sim_vector"
      ],
      "execution_count": 21,
      "outputs": []
    },
    {
      "cell_type": "code",
      "metadata": {
        "id": "iVj0mut_K-6P"
      },
      "source": [
        "keypoints = np.arange(0, 25)\n",
        "video_data = []"
      ],
      "execution_count": 22,
      "outputs": []
    },
    {
      "cell_type": "code",
      "metadata": {
        "id": "YiD9xTJygIVy",
        "colab": {
          "base_uri": "https://localhost:8080/"
        },
        "outputId": "48e5ff69-5d72-4cb1-db15-bb62bc8608cc"
      },
      "source": [
        "outputs = sorted(list_all_in_dir(\"/content/Tirocinio/video_output\"))\n",
        "for output in outputs:\n",
        "  print(output)\n",
        "  files = sorted(list_all_files(output))\n",
        "  vec = []\n",
        "  for file in files[:100]:\n",
        "    data = coordinate_from_data(extract_json_detection(file[0]))\n",
        "    vec.append(cosine_similarity_with_other_kp(data))\n",
        "  video_data.append(vec)"
      ],
      "execution_count": 23,
      "outputs": [
        {
          "output_type": "stream",
          "text": [
            "/content/Tirocinio/video_output/video_01_0\n",
            "/content/Tirocinio/video_output/video_02_0\n",
            "/content/Tirocinio/video_output/video_03_0\n",
            "/content/Tirocinio/video_output/video_04_0\n",
            "/content/Tirocinio/video_output/video_05_0\n",
            "/content/Tirocinio/video_output/video_06_0\n",
            "/content/Tirocinio/video_output/video_07_0\n",
            "/content/Tirocinio/video_output/video_08_0\n",
            "/content/Tirocinio/video_output/video_09_0\n",
            "/content/Tirocinio/video_output/video_10_0\n",
            "/content/Tirocinio/video_output/video_11_0\n",
            "/content/Tirocinio/video_output/video_12_0\n",
            "/content/Tirocinio/video_output/video_13_0\n",
            "/content/Tirocinio/video_output/video_14_0\n",
            "/content/Tirocinio/video_output/video_15_0\n",
            "/content/Tirocinio/video_output/video_16_0\n",
            "/content/Tirocinio/video_output/video_17_0\n",
            "/content/Tirocinio/video_output/video_18_0\n",
            "/content/Tirocinio/video_output/video_19_0\n",
            "/content/Tirocinio/video_output/video_20_0\n",
            "/content/Tirocinio/video_output/video_21_0\n",
            "/content/Tirocinio/video_output/video_22_0\n",
            "/content/Tirocinio/video_output/video_23_0\n",
            "/content/Tirocinio/video_output/video_24_1\n",
            "/content/Tirocinio/video_output/video_25_1\n",
            "/content/Tirocinio/video_output/video_26_1\n",
            "/content/Tirocinio/video_output/video_27_1\n",
            "/content/Tirocinio/video_output/video_28_1\n",
            "/content/Tirocinio/video_output/video_29_1\n",
            "/content/Tirocinio/video_output/video_30_1\n",
            "/content/Tirocinio/video_output/video_31_1\n",
            "/content/Tirocinio/video_output/video_32_1\n",
            "/content/Tirocinio/video_output/video_33_1\n",
            "/content/Tirocinio/video_output/video_34_1\n",
            "/content/Tirocinio/video_output/video_35_1\n",
            "/content/Tirocinio/video_output/video_36_1\n",
            "/content/Tirocinio/video_output/video_37_1\n",
            "/content/Tirocinio/video_output/video_38_1\n",
            "/content/Tirocinio/video_output/video_39_1\n",
            "/content/Tirocinio/video_output/video_40_1\n",
            "/content/Tirocinio/video_output/video_41_1\n",
            "/content/Tirocinio/video_output/video_42_1\n",
            "/content/Tirocinio/video_output/video_43_1\n",
            "/content/Tirocinio/video_output/video_44_0\n",
            "/content/Tirocinio/video_output/video_45_0\n",
            "/content/Tirocinio/video_output/video_46_0\n",
            "/content/Tirocinio/video_output/video_47_0\n",
            "/content/Tirocinio/video_output/video_48_0\n",
            "/content/Tirocinio/video_output/video_49_0\n",
            "/content/Tirocinio/video_output/video_50_0\n",
            "/content/Tirocinio/video_output/video_51_0\n",
            "/content/Tirocinio/video_output/video_52_0\n",
            "/content/Tirocinio/video_output/video_53_0\n",
            "/content/Tirocinio/video_output/video_54_0\n",
            "/content/Tirocinio/video_output/video_55_0\n",
            "/content/Tirocinio/video_output/video_56_0\n",
            "/content/Tirocinio/video_output/video_57_0\n",
            "/content/Tirocinio/video_output/video_58_0\n",
            "/content/Tirocinio/video_output/video_59_0\n",
            "/content/Tirocinio/video_output/video_60_0\n",
            "/content/Tirocinio/video_output/video_61_0\n",
            "/content/Tirocinio/video_output/video_62_0\n",
            "/content/Tirocinio/video_output/video_63_0\n",
            "/content/Tirocinio/video_output/video_64_0\n",
            "/content/Tirocinio/video_output/video_65_0\n",
            "/content/Tirocinio/video_output/video_66_0\n",
            "/content/Tirocinio/video_output/video_67_0\n",
            "/content/Tirocinio/video_output/video_68_0\n",
            "/content/Tirocinio/video_output/video_69_0\n",
            "/content/Tirocinio/video_output/video_70_0\n",
            "/content/Tirocinio/video_output/video_71_0\n",
            "/content/Tirocinio/video_output/video_72_0\n",
            "/content/Tirocinio/video_output/video_73_0\n",
            "/content/Tirocinio/video_output/video_74_1\n",
            "/content/Tirocinio/video_output/video_75_1\n",
            "/content/Tirocinio/video_output/video_76_1\n",
            "/content/Tirocinio/video_output/video_77_1\n",
            "/content/Tirocinio/video_output/video_78_1\n",
            "/content/Tirocinio/video_output/video_79_1\n",
            "/content/Tirocinio/video_output/video_80_1\n",
            "/content/Tirocinio/video_output/video_81_1\n",
            "/content/Tirocinio/video_output/video_82_1\n",
            "/content/Tirocinio/video_output/video_83_1\n",
            "/content/Tirocinio/video_output/video_84_1\n",
            "/content/Tirocinio/video_output/video_85_1\n",
            "/content/Tirocinio/video_output/video_86_1\n",
            "/content/Tirocinio/video_output/video_87_1\n",
            "/content/Tirocinio/video_output/video_88_1\n",
            "/content/Tirocinio/video_output/video_89_1\n"
          ],
          "name": "stdout"
        }
      ]
    },
    {
      "cell_type": "code",
      "metadata": {
        "id": "Cj4K3g4Sz4wU"
      },
      "source": [
        "labels = []\n",
        "for output in outputs: \n",
        "  labels.append(output.split(\"_\")[-1])"
      ],
      "execution_count": 24,
      "outputs": []
    },
    {
      "cell_type": "code",
      "metadata": {
        "id": "oZFuqZSKZ7Hr"
      },
      "source": [
        "labels = np.array(labels)"
      ],
      "execution_count": 25,
      "outputs": []
    },
    {
      "cell_type": "code",
      "metadata": {
        "id": "muwnGoxt0E7z"
      },
      "source": [
        "video_data = np.array(video_data)"
      ],
      "execution_count": 26,
      "outputs": []
    },
    {
      "cell_type": "code",
      "metadata": {
        "id": "n1fwRR83oXdl"
      },
      "source": [
        "from numpy import save\n",
        "save('video_data.npy', video_data)\n",
        "save('labels_data.npy', labels)"
      ],
      "execution_count": 27,
      "outputs": []
    },
    {
      "cell_type": "code",
      "metadata": {
        "id": "4xtjsdiB-j7z"
      },
      "source": [
        "from tensorflow.keras.utils import to_categorical\n",
        "labels = to_categorical(labels)"
      ],
      "execution_count": 28,
      "outputs": []
    },
    {
      "cell_type": "code",
      "metadata": {
        "id": "uqhxZb630GyH"
      },
      "source": [
        "from sklearn.model_selection import train_test_split\n",
        "\n",
        "(X_train, X_test, y_train, y_test) = train_test_split(video_data, labels,\n",
        "\ttest_size=0.25, stratify=labels, random_state=42)"
      ],
      "execution_count": 29,
      "outputs": []
    },
    {
      "cell_type": "code",
      "metadata": {
        "id": "pIBfTFEH0JkT"
      },
      "source": [
        "from tensorflow.keras.models import Sequential\n",
        "from tensorflow.keras.layers import Dense, Flatten, Conv1D\n",
        "\n",
        "model = Sequential([\n",
        "                    Conv1D(16, 15, input_shape=(X_train.shape[1], X_train.shape[2], X_train.shape[3])), \n",
        "                    Flatten(), \n",
        "                    Dense(128, activation = \"relu\"), \n",
        "                    Dense(128, activation = \"relu\"), \n",
        "                    Dense(128, activation = \"relu\"), \n",
        "                    Dense(y_train.shape[1], activation = \"softmax\")\n",
        "])"
      ],
      "execution_count": 30,
      "outputs": []
    },
    {
      "cell_type": "code",
      "metadata": {
        "id": "6lftQiXU0Lz2"
      },
      "source": [
        "model.compile(loss=\"binary_crossentropy\", optimizer=\"adam\", metrics=[\"accuracy\"])"
      ],
      "execution_count": 31,
      "outputs": []
    },
    {
      "cell_type": "code",
      "metadata": {
        "id": "aEkGdxsM0Oa5",
        "colab": {
          "base_uri": "https://localhost:8080/"
        },
        "outputId": "7ad97695-a796-47cd-a59e-03e6f99d463f"
      },
      "source": [
        "history = model.fit(X_train, y_train, epochs=15, batch_size=20, validation_data=(X_test, y_test))"
      ],
      "execution_count": 32,
      "outputs": [
        {
          "output_type": "stream",
          "text": [
            "Epoch 1/15\n",
            "4/4 [==============================] - 2s 243ms/step - loss: 1.0175 - accuracy: 0.5359 - val_loss: 0.7119 - val_accuracy: 0.4783\n",
            "Epoch 2/15\n",
            "4/4 [==============================] - 0s 82ms/step - loss: 0.5440 - accuracy: 0.6447 - val_loss: 0.4248 - val_accuracy: 0.7826\n",
            "Epoch 3/15\n",
            "4/4 [==============================] - 0s 83ms/step - loss: 0.1367 - accuracy: 0.9652 - val_loss: 0.0057 - val_accuracy: 1.0000\n",
            "Epoch 4/15\n",
            "4/4 [==============================] - 0s 80ms/step - loss: 0.0148 - accuracy: 0.9939 - val_loss: 0.0517 - val_accuracy: 0.9565\n",
            "Epoch 5/15\n",
            "4/4 [==============================] - 0s 82ms/step - loss: 0.0228 - accuracy: 1.0000 - val_loss: 0.1016 - val_accuracy: 0.9565\n",
            "Epoch 6/15\n",
            "4/4 [==============================] - 0s 79ms/step - loss: 0.0230 - accuracy: 1.0000 - val_loss: 0.0087 - val_accuracy: 1.0000\n",
            "Epoch 7/15\n",
            "4/4 [==============================] - 0s 87ms/step - loss: 0.0079 - accuracy: 0.9939 - val_loss: 0.0228 - val_accuracy: 1.0000\n",
            "Epoch 8/15\n",
            "4/4 [==============================] - 0s 80ms/step - loss: 0.0223 - accuracy: 1.0000 - val_loss: 0.0246 - val_accuracy: 1.0000\n",
            "Epoch 9/15\n",
            "4/4 [==============================] - 0s 79ms/step - loss: 0.0036 - accuracy: 1.0000 - val_loss: 0.0149 - val_accuracy: 1.0000\n",
            "Epoch 10/15\n",
            "4/4 [==============================] - 0s 82ms/step - loss: 0.0113 - accuracy: 1.0000 - val_loss: 5.9507e-04 - val_accuracy: 1.0000\n",
            "Epoch 11/15\n",
            "4/4 [==============================] - 0s 81ms/step - loss: 4.0276e-04 - accuracy: 1.0000 - val_loss: 0.0029 - val_accuracy: 1.0000\n",
            "Epoch 12/15\n",
            "4/4 [==============================] - 0s 81ms/step - loss: 0.0012 - accuracy: 1.0000 - val_loss: 0.0028 - val_accuracy: 1.0000\n",
            "Epoch 13/15\n",
            "4/4 [==============================] - 0s 82ms/step - loss: 6.2886e-04 - accuracy: 1.0000 - val_loss: 2.9656e-04 - val_accuracy: 1.0000\n",
            "Epoch 14/15\n",
            "4/4 [==============================] - 0s 81ms/step - loss: 8.0350e-05 - accuracy: 1.0000 - val_loss: 1.2458e-04 - val_accuracy: 1.0000\n",
            "Epoch 15/15\n",
            "4/4 [==============================] - 0s 78ms/step - loss: 3.5475e-05 - accuracy: 1.0000 - val_loss: 9.6135e-05 - val_accuracy: 1.0000\n"
          ],
          "name": "stdout"
        }
      ]
    },
    {
      "cell_type": "code",
      "metadata": {
        "colab": {
          "base_uri": "https://localhost:8080/",
          "height": 300
        },
        "id": "37NAfopx_jj1",
        "outputId": "34f9aa92-727d-4d5c-9b48-1021b652ab5a"
      },
      "source": [
        "import matplotlib.pyplot as plt\n",
        " \n",
        "plt.plot(history.history['accuracy'], label='accuracy')\n",
        "plt.plot(history.history['val_accuracy'], label = 'val_accuracy')\n",
        "plt.xlabel('Epoch')\n",
        "plt.ylabel('Accuracy')\n",
        "plt.ylim([0.5, 1])\n",
        "plt.legend(loc='lower right')"
      ],
      "execution_count": 33,
      "outputs": [
        {
          "output_type": "execute_result",
          "data": {
            "text/plain": [
              "<matplotlib.legend.Legend at 0x7f17081d7a10>"
            ]
          },
          "metadata": {
            "tags": []
          },
          "execution_count": 33
        },
        {
          "output_type": "display_data",
          "data": {
            "image/png": "[encoded data removed]",
            "text/plain": [
              "<Figure size 432x288 with 1 Axes>"
            ]
          },
          "metadata": {
            "tags": [],
            "needs_background": "light"
          }
        }
      ]
    },
    {
      "cell_type": "code",
      "metadata": {
        "id": "faVXfiUS_k34"
      },
      "source": [
        "y_pred = model.predict(X_test)\n",
        "y_pred = [np.argmax(i) for i in y_pred]\n",
        "y_real = [np.argmax(i) for i in y_test]"
      ],
      "execution_count": 34,
      "outputs": []
    },
    {
      "cell_type": "code",
      "metadata": {
        "colab": {
          "base_uri": "https://localhost:8080/"
        },
        "id": "T7YfAjz8GZeu",
        "outputId": "b2f1cc40-71db-4210-a02c-1be653f35b6c"
      },
      "source": [
        "from sklearn.metrics import confusion_matrix, f1_score, classification_report\n",
        "confusion_matrix(y_real, y_pred)"
      ],
      "execution_count": 35,
      "outputs": [
        {
          "output_type": "execute_result",
          "data": {
            "text/plain": [
              "array([[14,  0],\n",
              "       [ 0,  9]])"
            ]
          },
          "metadata": {
            "tags": []
          },
          "execution_count": 35
        }
      ]
    },
    {
      "cell_type": "code",
      "metadata": {
        "colab": {
          "base_uri": "https://localhost:8080/"
        },
        "id": "qDmeK7Q_GkDP",
        "outputId": "56525a05-a69a-4efb-dae6-b0141bc117a3"
      },
      "source": [
        "print(classification_report(y_real, y_pred))"
      ],
      "execution_count": 36,
      "outputs": [
        {
          "output_type": "stream",
          "text": [
            "              precision    recall  f1-score   support\n",
            "\n",
            "           0       1.00      1.00      1.00        14\n",
            "           1       1.00      1.00      1.00         9\n",
            "\n",
            "    accuracy                           1.00        23\n",
            "   macro avg       1.00      1.00      1.00        23\n",
            "weighted avg       1.00      1.00      1.00        23\n",
            "\n"
          ],
          "name": "stdout"
        }
      ]
    },
    {
      "cell_type": "code",
      "metadata": {
        "id": "jbU0XFSYROSU"
      },
      "source": [
        ""
      ],
      "execution_count": null,
      "outputs": []
    }
  ]
}