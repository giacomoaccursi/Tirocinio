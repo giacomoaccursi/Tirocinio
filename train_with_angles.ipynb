{
  "nbformat": 4,
  "nbformat_minor": 0,
  "metadata": {
    "colab": {
      "name": "train_with_angles.ipynb",
      "provenance": [],
      "collapsed_sections": [],
      "authorship_tag": "ABX9TyMUST9VjIiJoLYxJTZMB0q6",
      "include_colab_link": true
    },
    "kernelspec": {
      "name": "python3",
      "display_name": "Python 3"
    },
    "language_info": {
      "name": "python"
    }
  },
  "cells": [
    {
      "cell_type": "markdown",
      "metadata": {
        "id": "view-in-github",
        "colab_type": "text"
      },
      "source": [
        "<a href=\"https://colab.research.google.com/github/giacomoaccursi/Tirocinio/blob/main/train_with_angles.ipynb\" target=\"_parent\"><img src=\"https://colab.research.google.com/assets/colab-badge.svg\" alt=\"Open In Colab\"/></a>"
      ]
    },
    {
      "cell_type": "code",
      "metadata": {
        "id": "IQgu_LrkqjqP"
      },
      "source": [
        "rm -rf Tirocinio/"
      ],
      "execution_count": null,
      "outputs": []
    },
    {
      "cell_type": "code",
      "metadata": {
        "colab": {
          "base_uri": "https://localhost:8080/"
        },
        "id": "J5d3DE0nuybj",
        "outputId": "65c65303-5c54-40cf-e1a1-059d5437fc80"
      },
      "source": [
        "!git clone https://github.com/giacomoaccursi/Tirocinio.git"
      ],
      "execution_count": null,
      "outputs": [
        {
          "output_type": "stream",
          "text": [
            "Cloning into 'Tirocinio'...\n",
            "remote: Enumerating objects: 117894, done.\u001b[K\n",
            "remote: Counting objects: 100% (19321/19321), done.\u001b[K\n",
            "remote: Compressing objects: 100% (19314/19314), done.\u001b[K\n",
            "remote: Total 117894 (delta 11), reused 19317 (delta 7), pack-reused 98573\u001b[K\n",
            "Receiving objects: 100% (117894/117894), 518.15 MiB | 25.53 MiB/s, done.\n",
            "Resolving deltas: 100% (2493/2493), done.\n",
            "Checking out files: 100% (45074/45074), done.\n"
          ],
          "name": "stdout"
        }
      ]
    },
    {
      "cell_type": "code",
      "metadata": {
        "id": "qIkFKr-2Km0B"
      },
      "source": [
        "import json\n",
        "import numpy as np\n",
        "import pandas as pd\n",
        "import math"
      ],
      "execution_count": null,
      "outputs": []
    },
    {
      "cell_type": "code",
      "metadata": {
        "id": "gFryVgFP4j1f"
      },
      "source": [
        "from os import listdir\n",
        "from os.path import isfile, join\n",
        "#lista tutti i file dato un percorso\n",
        "def list_all_files(input_path):\n",
        "  files = [join(input_path, f) for f in listdir(input_path) if isfile(join(input_path, f))]\n",
        "  return list(zip(files, listdir(input_path)))\n",
        "\n",
        "def list_all_in_dir(input_path):\n",
        "  files = [join(input_path, f) for f in listdir(input_path)]\n",
        "  return files"
      ],
      "execution_count": null,
      "outputs": []
    },
    {
      "cell_type": "code",
      "metadata": {
        "id": "9qaNqcg__MTW"
      },
      "source": [
        "def angle_between_points( p0, p1, p2 ):\n",
        "  a = (p1[0]-p0[0])**2 + (p1[1]-p0[1])**2\n",
        "  b = (p1[0]-p2[0])**2 + (p1[1]-p2[1])**2\n",
        "  c = (p2[0]-p0[0])**2 + (p2[1]-p0[1])**2\n",
        "  if (a == 0 or b == 0 or c == 0):\n",
        "    return 0 \n",
        "  return  (math.acos( (a+b-c) / math.sqrt(4*a*b) ) * 180 /math.pi)"
      ],
      "execution_count": null,
      "outputs": []
    },
    {
      "cell_type": "markdown",
      "metadata": {
        "id": "immbeeWUybUs"
      },
      "source": [
        "![keypoints (1).png](data:image/png;base64,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)"
      ]
    },
    {
      "cell_type": "code",
      "metadata": {
        "id": "iuCjXOP-9hIE"
      },
      "source": [
        "angles = [\n",
        "          (0, 1, 8),\n",
        "          (0, 1, 2), \n",
        "          (0, 1, 5),\n",
        "          (1, 2, 3),\n",
        "          (2, 3, 4),\n",
        "          (1, 5, 6),\n",
        "          (5, 6, 7), \n",
        "          (1, 8, 9),\n",
        "          (1, 8, 12), \n",
        "          (8, 9, 10), \n",
        "          (9, 12, 13), \n",
        "          (9, 10, 11), \n",
        "          (12, 13, 14), \n",
        "          (10, 11, 22), \n",
        "          (13, 14, 19)\n",
        "]"
      ],
      "execution_count": null,
      "outputs": []
    },
    {
      "cell_type": "code",
      "metadata": {
        "id": "0Q20bH9aASJa"
      },
      "source": [
        "def calculate_angles(data):\n",
        "  angle_vec = []\n",
        "  for node in angles:\n",
        "    coord = tuple(data[i] for i in node)\n",
        "    angle_vec.append(angle_between_points(*coord))\n",
        "  return angle_vec\n"
      ],
      "execution_count": null,
      "outputs": []
    },
    {
      "cell_type": "code",
      "metadata": {
        "id": "npZ6VUZHK39U"
      },
      "source": [
        "#estrae i dati dal file json\n",
        "def extract_json_detection(file):\n",
        "  with open(file, 'r') as f:\n",
        "    data = json.load(f)\n",
        "    data = data[\"people\"][0][\"pose_keypoints_2d\"]\n",
        "  return data"
      ],
      "execution_count": null,
      "outputs": []
    },
    {
      "cell_type": "code",
      "metadata": {
        "id": "w_SLJzi7vGsv"
      },
      "source": [
        "def coordinate_from_data(data): \n",
        "  del data[2:75:3] \n",
        "  new_data = [ [data[i], data[i+1]] for i in range(0, len(data), 2)]\n",
        "  return new_data"
      ],
      "execution_count": null,
      "outputs": []
    },
    {
      "cell_type": "markdown",
      "metadata": {
        "id": "5KBExtxw-0ob"
      },
      "source": [
        "ad ogni frame ho le coordinate. \n",
        "creo delle triple di coordinate e poi le passo alla funzione angle_between_points()\n"
      ]
    },
    {
      "cell_type": "code",
      "metadata": {
        "id": "iVj0mut_K-6P"
      },
      "source": [
        "keypoints = np.arange(0, 25)\n",
        "video_data = []"
      ],
      "execution_count": null,
      "outputs": []
    },
    {
      "cell_type": "code",
      "metadata": {
        "id": "YiD9xTJygIVy",
        "colab": {
          "base_uri": "https://localhost:8080/"
        },
        "outputId": "067464a7-b982-4904-fb66-372b1845af1f"
      },
      "source": [
        "outputs = sorted(list_all_in_dir(\"/content/Tirocinio/video_train_output\"))\n",
        "for output in outputs:\n",
        "  print(output)\n",
        "  files = sorted(list_all_files(output))\n",
        "  vec = []\n",
        "  for file in files[:100]:\n",
        "    data = coordinate_from_data(extract_json_detection(file[0]))\n",
        "    #vec.append(cosine_similarity_with_other_kp(data))\n",
        "    vec.append(calculate_angles(data))\n",
        "  video_data.append(vec)"
      ],
      "execution_count": null,
      "outputs": [
        {
          "output_type": "stream",
          "text": [
            "/content/Tirocinio/video_train_output/video_01_0\n",
            "/content/Tirocinio/video_train_output/video_02_0\n",
            "/content/Tirocinio/video_train_output/video_03_0\n",
            "/content/Tirocinio/video_train_output/video_04_0\n",
            "/content/Tirocinio/video_train_output/video_05_0\n",
            "/content/Tirocinio/video_train_output/video_06_0\n",
            "/content/Tirocinio/video_train_output/video_07_0\n",
            "/content/Tirocinio/video_train_output/video_08_0\n",
            "/content/Tirocinio/video_train_output/video_09_0\n",
            "/content/Tirocinio/video_train_output/video_100_1\n",
            "/content/Tirocinio/video_train_output/video_101_1\n",
            "/content/Tirocinio/video_train_output/video_102_1\n",
            "/content/Tirocinio/video_train_output/video_103_1\n",
            "/content/Tirocinio/video_train_output/video_104_1\n",
            "/content/Tirocinio/video_train_output/video_105_1\n",
            "/content/Tirocinio/video_train_output/video_106_1\n",
            "/content/Tirocinio/video_train_output/video_107_1\n",
            "/content/Tirocinio/video_train_output/video_108_1\n",
            "/content/Tirocinio/video_train_output/video_109_1\n",
            "/content/Tirocinio/video_train_output/video_10_0\n",
            "/content/Tirocinio/video_train_output/video_110_1\n",
            "/content/Tirocinio/video_train_output/video_111_1\n",
            "/content/Tirocinio/video_train_output/video_112_1\n",
            "/content/Tirocinio/video_train_output/video_113_1\n",
            "/content/Tirocinio/video_train_output/video_114_1\n",
            "/content/Tirocinio/video_train_output/video_115_1\n",
            "/content/Tirocinio/video_train_output/video_116_1\n",
            "/content/Tirocinio/video_train_output/video_117_1\n",
            "/content/Tirocinio/video_train_output/video_118_1\n",
            "/content/Tirocinio/video_train_output/video_119_0\n",
            "/content/Tirocinio/video_train_output/video_11_0\n",
            "/content/Tirocinio/video_train_output/video_120_0\n",
            "/content/Tirocinio/video_train_output/video_121_0\n",
            "/content/Tirocinio/video_train_output/video_122_0\n",
            "/content/Tirocinio/video_train_output/video_123_0\n",
            "/content/Tirocinio/video_train_output/video_124_0\n",
            "/content/Tirocinio/video_train_output/video_125_0\n",
            "/content/Tirocinio/video_train_output/video_126_0\n",
            "/content/Tirocinio/video_train_output/video_127_0\n",
            "/content/Tirocinio/video_train_output/video_128_0\n",
            "/content/Tirocinio/video_train_output/video_129_0\n",
            "/content/Tirocinio/video_train_output/video_12_0\n",
            "/content/Tirocinio/video_train_output/video_130_0\n",
            "/content/Tirocinio/video_train_output/video_131_0\n",
            "/content/Tirocinio/video_train_output/video_132_0\n",
            "/content/Tirocinio/video_train_output/video_133_0\n",
            "/content/Tirocinio/video_train_output/video_134_0\n",
            "/content/Tirocinio/video_train_output/video_135_0\n",
            "/content/Tirocinio/video_train_output/video_136_1\n",
            "/content/Tirocinio/video_train_output/video_137_1\n",
            "/content/Tirocinio/video_train_output/video_138_1\n",
            "/content/Tirocinio/video_train_output/video_139_1\n",
            "/content/Tirocinio/video_train_output/video_13_0\n",
            "/content/Tirocinio/video_train_output/video_140_1\n",
            "/content/Tirocinio/video_train_output/video_141_1\n",
            "/content/Tirocinio/video_train_output/video_142_1\n",
            "/content/Tirocinio/video_train_output/video_143_1\n",
            "/content/Tirocinio/video_train_output/video_144_1\n",
            "/content/Tirocinio/video_train_output/video_145_1\n",
            "/content/Tirocinio/video_train_output/video_146_1\n",
            "/content/Tirocinio/video_train_output/video_147_1\n",
            "/content/Tirocinio/video_train_output/video_148_1\n",
            "/content/Tirocinio/video_train_output/video_149_1\n",
            "/content/Tirocinio/video_train_output/video_14_0\n",
            "/content/Tirocinio/video_train_output/video_150_1\n",
            "/content/Tirocinio/video_train_output/video_151_1\n",
            "/content/Tirocinio/video_train_output/video_152_1\n",
            "/content/Tirocinio/video_train_output/video_153_1\n",
            "/content/Tirocinio/video_train_output/video_154_1\n",
            "/content/Tirocinio/video_train_output/video_155_1\n",
            "/content/Tirocinio/video_train_output/video_156_1\n",
            "/content/Tirocinio/video_train_output/video_157_1\n",
            "/content/Tirocinio/video_train_output/video_158_1\n",
            "/content/Tirocinio/video_train_output/video_159_1\n",
            "/content/Tirocinio/video_train_output/video_15_0\n",
            "/content/Tirocinio/video_train_output/video_160_1\n",
            "/content/Tirocinio/video_train_output/video_161_1\n",
            "/content/Tirocinio/video_train_output/video_162_1\n",
            "/content/Tirocinio/video_train_output/video_163_1\n",
            "/content/Tirocinio/video_train_output/video_164_1\n",
            "/content/Tirocinio/video_train_output/video_165_1\n",
            "/content/Tirocinio/video_train_output/video_166_1\n",
            "/content/Tirocinio/video_train_output/video_167_1\n",
            "/content/Tirocinio/video_train_output/video_168_1\n",
            "/content/Tirocinio/video_train_output/video_169_0\n",
            "/content/Tirocinio/video_train_output/video_16_0\n",
            "/content/Tirocinio/video_train_output/video_170_0\n",
            "/content/Tirocinio/video_train_output/video_171_0\n",
            "/content/Tirocinio/video_train_output/video_172_0\n",
            "/content/Tirocinio/video_train_output/video_173_0\n",
            "/content/Tirocinio/video_train_output/video_174_0\n",
            "/content/Tirocinio/video_train_output/video_175_0\n",
            "/content/Tirocinio/video_train_output/video_176_0\n",
            "/content/Tirocinio/video_train_output/video_177_0\n",
            "/content/Tirocinio/video_train_output/video_178_0\n",
            "/content/Tirocinio/video_train_output/video_179_0\n",
            "/content/Tirocinio/video_train_output/video_17_0\n",
            "/content/Tirocinio/video_train_output/video_180_0\n",
            "/content/Tirocinio/video_train_output/video_181_0\n",
            "/content/Tirocinio/video_train_output/video_182_0\n",
            "/content/Tirocinio/video_train_output/video_183_0\n",
            "/content/Tirocinio/video_train_output/video_184_0\n",
            "/content/Tirocinio/video_train_output/video_185_0\n",
            "/content/Tirocinio/video_train_output/video_186_0\n",
            "/content/Tirocinio/video_train_output/video_187_0\n",
            "/content/Tirocinio/video_train_output/video_188_0\n",
            "/content/Tirocinio/video_train_output/video_189_0\n",
            "/content/Tirocinio/video_train_output/video_18_0\n",
            "/content/Tirocinio/video_train_output/video_190_0\n",
            "/content/Tirocinio/video_train_output/video_191_0\n",
            "/content/Tirocinio/video_train_output/video_19_0\n",
            "/content/Tirocinio/video_train_output/video_20_0\n",
            "/content/Tirocinio/video_train_output/video_21_0\n",
            "/content/Tirocinio/video_train_output/video_22_0\n",
            "/content/Tirocinio/video_train_output/video_23_0\n",
            "/content/Tirocinio/video_train_output/video_24_1\n",
            "/content/Tirocinio/video_train_output/video_25_1\n",
            "/content/Tirocinio/video_train_output/video_26_1\n",
            "/content/Tirocinio/video_train_output/video_27_1\n",
            "/content/Tirocinio/video_train_output/video_28_1\n",
            "/content/Tirocinio/video_train_output/video_29_1\n",
            "/content/Tirocinio/video_train_output/video_30_1\n",
            "/content/Tirocinio/video_train_output/video_31_1\n",
            "/content/Tirocinio/video_train_output/video_32_1\n",
            "/content/Tirocinio/video_train_output/video_33_1\n",
            "/content/Tirocinio/video_train_output/video_34_1\n",
            "/content/Tirocinio/video_train_output/video_35_1\n",
            "/content/Tirocinio/video_train_output/video_36_1\n",
            "/content/Tirocinio/video_train_output/video_37_1\n",
            "/content/Tirocinio/video_train_output/video_38_1\n",
            "/content/Tirocinio/video_train_output/video_39_1\n",
            "/content/Tirocinio/video_train_output/video_40_1\n",
            "/content/Tirocinio/video_train_output/video_41_1\n",
            "/content/Tirocinio/video_train_output/video_42_1\n",
            "/content/Tirocinio/video_train_output/video_43_1\n",
            "/content/Tirocinio/video_train_output/video_44_0\n",
            "/content/Tirocinio/video_train_output/video_45_0\n",
            "/content/Tirocinio/video_train_output/video_46_0\n",
            "/content/Tirocinio/video_train_output/video_47_0\n",
            "/content/Tirocinio/video_train_output/video_48_0\n",
            "/content/Tirocinio/video_train_output/video_49_0\n",
            "/content/Tirocinio/video_train_output/video_50_0\n",
            "/content/Tirocinio/video_train_output/video_51_0\n",
            "/content/Tirocinio/video_train_output/video_52_0\n",
            "/content/Tirocinio/video_train_output/video_53_0\n",
            "/content/Tirocinio/video_train_output/video_54_0\n",
            "/content/Tirocinio/video_train_output/video_55_0\n",
            "/content/Tirocinio/video_train_output/video_56_0\n",
            "/content/Tirocinio/video_train_output/video_57_0\n",
            "/content/Tirocinio/video_train_output/video_58_0\n",
            "/content/Tirocinio/video_train_output/video_59_0\n",
            "/content/Tirocinio/video_train_output/video_60_0\n",
            "/content/Tirocinio/video_train_output/video_61_0\n",
            "/content/Tirocinio/video_train_output/video_62_0\n",
            "/content/Tirocinio/video_train_output/video_63_0\n",
            "/content/Tirocinio/video_train_output/video_64_0\n",
            "/content/Tirocinio/video_train_output/video_65_0\n",
            "/content/Tirocinio/video_train_output/video_66_0\n",
            "/content/Tirocinio/video_train_output/video_67_0\n",
            "/content/Tirocinio/video_train_output/video_68_0\n",
            "/content/Tirocinio/video_train_output/video_69_0\n",
            "/content/Tirocinio/video_train_output/video_70_0\n",
            "/content/Tirocinio/video_train_output/video_71_0\n",
            "/content/Tirocinio/video_train_output/video_72_0\n",
            "/content/Tirocinio/video_train_output/video_73_0\n",
            "/content/Tirocinio/video_train_output/video_74_1\n",
            "/content/Tirocinio/video_train_output/video_75_1\n",
            "/content/Tirocinio/video_train_output/video_76_1\n",
            "/content/Tirocinio/video_train_output/video_77_1\n",
            "/content/Tirocinio/video_train_output/video_78_1\n",
            "/content/Tirocinio/video_train_output/video_79_1\n",
            "/content/Tirocinio/video_train_output/video_80_1\n",
            "/content/Tirocinio/video_train_output/video_81_1\n",
            "/content/Tirocinio/video_train_output/video_82_1\n",
            "/content/Tirocinio/video_train_output/video_83_1\n",
            "/content/Tirocinio/video_train_output/video_84_1\n",
            "/content/Tirocinio/video_train_output/video_85_1\n",
            "/content/Tirocinio/video_train_output/video_86_1\n",
            "/content/Tirocinio/video_train_output/video_87_1\n",
            "/content/Tirocinio/video_train_output/video_88_1\n",
            "/content/Tirocinio/video_train_output/video_89_1\n",
            "/content/Tirocinio/video_train_output/video_90_1\n",
            "/content/Tirocinio/video_train_output/video_91_1\n",
            "/content/Tirocinio/video_train_output/video_92_1\n",
            "/content/Tirocinio/video_train_output/video_93_1\n",
            "/content/Tirocinio/video_train_output/video_94_1\n",
            "/content/Tirocinio/video_train_output/video_95_1\n",
            "/content/Tirocinio/video_train_output/video_96_1\n",
            "/content/Tirocinio/video_train_output/video_97_1\n",
            "/content/Tirocinio/video_train_output/video_98_1\n",
            "/content/Tirocinio/video_train_output/video_99_1\n"
          ],
          "name": "stdout"
        }
      ]
    },
    {
      "cell_type": "code",
      "metadata": {
        "id": "Cj4K3g4Sz4wU"
      },
      "source": [
        "labels = []\n",
        "for output in outputs: \n",
        "  labels.append(output.split(\"_\")[-1])"
      ],
      "execution_count": null,
      "outputs": []
    },
    {
      "cell_type": "code",
      "metadata": {
        "id": "oZFuqZSKZ7Hr"
      },
      "source": [
        "labels = np.array(labels)"
      ],
      "execution_count": null,
      "outputs": []
    },
    {
      "cell_type": "code",
      "metadata": {
        "id": "muwnGoxt0E7z"
      },
      "source": [
        "video_data = np.array(video_data)"
      ],
      "execution_count": null,
      "outputs": []
    },
    {
      "cell_type": "code",
      "metadata": {
        "id": "4PpfFmYJRY0X",
        "colab": {
          "base_uri": "https://localhost:8080/"
        },
        "outputId": "ee41c241-c19e-450b-cde3-482db0947c06"
      },
      "source": [
        "video_data.shape"
      ],
      "execution_count": null,
      "outputs": [
        {
          "output_type": "execute_result",
          "data": {
            "text/plain": [
              "(191, 100, 15)"
            ]
          },
          "metadata": {
            "tags": []
          },
          "execution_count": 302
        }
      ]
    },
    {
      "cell_type": "code",
      "metadata": {
        "id": "4xtjsdiB-j7z"
      },
      "source": [
        "from tensorflow.keras.utils import to_categorical\n",
        "labels = to_categorical(labels)"
      ],
      "execution_count": null,
      "outputs": []
    },
    {
      "cell_type": "code",
      "metadata": {
        "id": "uqhxZb630GyH"
      },
      "source": [
        "from sklearn.model_selection import train_test_split\n",
        "\n",
        "(X_train, X_test, y_train, y_test) = train_test_split(video_data, labels,\n",
        "\ttest_size=0.25,stratify=labels, random_state=42)"
      ],
      "execution_count": null,
      "outputs": []
    },
    {
      "cell_type": "code",
      "metadata": {
        "id": "G5M5P8VG8wPf"
      },
      "source": [
        ""
      ],
      "execution_count": null,
      "outputs": []
    },
    {
      "cell_type": "code",
      "metadata": {
        "id": "m7BRxE9-vgYo"
      },
      "source": [
        "from sklearn.preprocessing import StandardScaler\n",
        "scaler = StandardScaler()\n",
        "X_train = scaler.fit_transform(X_train.reshape(-1, X_train.shape[-1])).reshape(X_train.shape)\n",
        "X_test = scaler.transform(X_test.reshape(-1, X_test.shape[-1])).reshape(X_test.shape)"
      ],
      "execution_count": null,
      "outputs": []
    },
    {
      "cell_type": "code",
      "metadata": {
        "id": "pIBfTFEH0JkT"
      },
      "source": [
        "\n",
        "from tensorflow.keras.models import Sequential\n",
        "from tensorflow.keras.layers import Dense, Flatten, Conv1D, Dropout\n",
        "\n",
        "model = Sequential([\n",
        "                    Conv1D(64, 5, input_shape=(X_train.shape[1], X_train.shape[2])), \n",
        "                    Flatten(), \n",
        "                    Dense(256, activation = \"relu\"),\n",
        "                    Dropout(0.5), \n",
        "                    Dense(256, activation = \"relu\"), \n",
        "                    Dropout(0.5),\n",
        "                    Dense(256, activation = \"relu\"),\n",
        "                    Dropout(0.5),  \n",
        "                    Dense(y_train.shape[1], activation = \"softmax\")\n",
        "])\n"
      ],
      "execution_count": null,
      "outputs": []
    },
    {
      "cell_type": "code",
      "metadata": {
        "id": "6lftQiXU0Lz2"
      },
      "source": [
        "model.compile(loss=\"categorical_crossentropy\", optimizer=\"adam\", metrics=[\"accuracy\"])"
      ],
      "execution_count": null,
      "outputs": []
    },
    {
      "cell_type": "code",
      "metadata": {
        "id": "aEkGdxsM0Oa5",
        "colab": {
          "base_uri": "https://localhost:8080/"
        },
        "outputId": "cd0e45ee-f244-4ec3-e4cc-57fee5772824"
      },
      "source": [
        "history = model.fit(X_train, y_train, epochs=15, batch_size=20, validation_data=(X_test, y_test))"
      ],
      "execution_count": null,
      "outputs": [
        {
          "output_type": "stream",
          "text": [
            "Epoch 1/15\n",
            "8/8 [==============================] - 1s 52ms/step - loss: 0.6699 - accuracy: 0.6993 - val_loss: 0.1435 - val_accuracy: 0.9583\n",
            "Epoch 2/15\n",
            "8/8 [==============================] - 0s 31ms/step - loss: 0.3730 - accuracy: 0.8811 - val_loss: 0.2094 - val_accuracy: 0.9583\n",
            "Epoch 3/15\n",
            "8/8 [==============================] - 0s 26ms/step - loss: 0.1920 - accuracy: 0.9301 - val_loss: 0.2515 - val_accuracy: 0.9583\n",
            "Epoch 4/15\n",
            "8/8 [==============================] - 0s 25ms/step - loss: 0.2666 - accuracy: 0.9231 - val_loss: 0.1803 - val_accuracy: 0.9583\n",
            "Epoch 5/15\n",
            "8/8 [==============================] - 0s 25ms/step - loss: 0.1608 - accuracy: 0.9790 - val_loss: 0.2553 - val_accuracy: 0.9583\n",
            "Epoch 6/15\n",
            "8/8 [==============================] - 0s 25ms/step - loss: 0.0515 - accuracy: 0.9860 - val_loss: 0.3401 - val_accuracy: 0.9583\n",
            "Epoch 7/15\n",
            "8/8 [==============================] - 0s 24ms/step - loss: 0.0366 - accuracy: 0.9860 - val_loss: 0.4153 - val_accuracy: 0.9583\n",
            "Epoch 8/15\n",
            "8/8 [==============================] - 0s 26ms/step - loss: 0.0085 - accuracy: 0.9930 - val_loss: 0.4759 - val_accuracy: 0.9583\n",
            "Epoch 9/15\n",
            "8/8 [==============================] - 0s 39ms/step - loss: 0.0262 - accuracy: 0.9930 - val_loss: 0.4332 - val_accuracy: 0.9583\n",
            "Epoch 10/15\n",
            "8/8 [==============================] - 0s 24ms/step - loss: 0.0034 - accuracy: 1.0000 - val_loss: 0.3821 - val_accuracy: 0.9583\n",
            "Epoch 11/15\n",
            "8/8 [==============================] - 0s 24ms/step - loss: 0.0041 - accuracy: 1.0000 - val_loss: 0.3892 - val_accuracy: 0.9583\n",
            "Epoch 12/15\n",
            "8/8 [==============================] - 0s 25ms/step - loss: 0.0414 - accuracy: 0.9860 - val_loss: 0.3769 - val_accuracy: 0.9583\n",
            "Epoch 13/15\n",
            "8/8 [==============================] - 0s 24ms/step - loss: 0.0149 - accuracy: 0.9930 - val_loss: 0.4086 - val_accuracy: 0.9583\n",
            "Epoch 14/15\n",
            "8/8 [==============================] - 0s 25ms/step - loss: 0.0029 - accuracy: 1.0000 - val_loss: 0.4412 - val_accuracy: 0.9583\n",
            "Epoch 15/15\n",
            "8/8 [==============================] - 0s 25ms/step - loss: 0.0762 - accuracy: 0.9860 - val_loss: 0.4276 - val_accuracy: 0.9583\n"
          ],
          "name": "stdout"
        }
      ]
    },
    {
      "cell_type": "code",
      "metadata": {
        "id": "37NAfopx_jj1",
        "colab": {
          "base_uri": "https://localhost:8080/",
          "height": 300
        },
        "outputId": "7bb3a939-2f27-43f6-ac29-29c9007be1d3"
      },
      "source": [
        "import matplotlib.pyplot as plt\n",
        " \n",
        "plt.plot(history.history['accuracy'], label='accuracy')\n",
        "plt.plot(history.history['val_accuracy'], label = 'val_accuracy')\n",
        "plt.xlabel('Epoch')\n",
        "plt.ylabel('Accuracy')\n",
        "plt.ylim([0.5, 1])\n",
        "plt.legend(loc='lower right')"
      ],
      "execution_count": null,
      "outputs": [
        {
          "output_type": "execute_result",
          "data": {
            "text/plain": [
              "<matplotlib.legend.Legend at 0x7f7b73a7d110>"
            ]
          },
          "metadata": {
            "tags": []
          },
          "execution_count": 309
        },
        {
          "output_type": "display_data",
          "data": {
            "image/png": "[encoded data removed]",
            "text/plain": [
              "<Figure size 432x288 with 1 Axes>"
            ]
          },
          "metadata": {
            "tags": [],
            "needs_background": "light"
          }
        }
      ]
    },
    {
      "cell_type": "code",
      "metadata": {
        "id": "faVXfiUS_k34"
      },
      "source": [
        "y_pred = model.predict(X_test)\n",
        "y_pred = [np.argmax(i) for i in y_pred]\n",
        "y_real = [np.argmax(i) for i in y_test]"
      ],
      "execution_count": null,
      "outputs": []
    },
    {
      "cell_type": "code",
      "metadata": {
        "id": "T7YfAjz8GZeu",
        "colab": {
          "base_uri": "https://localhost:8080/"
        },
        "outputId": "64c70de7-1a3f-49ea-d695-e509b71a1122"
      },
      "source": [
        "from sklearn.metrics import confusion_matrix, f1_score, classification_report\n",
        "confusion_matrix(y_real, y_pred)"
      ],
      "execution_count": null,
      "outputs": [
        {
          "output_type": "execute_result",
          "data": {
            "text/plain": [
              "array([[23,  0],\n",
              "       [ 2, 23]])"
            ]
          },
          "metadata": {
            "tags": []
          },
          "execution_count": 311
        }
      ]
    },
    {
      "cell_type": "code",
      "metadata": {
        "id": "qDmeK7Q_GkDP",
        "colab": {
          "base_uri": "https://localhost:8080/"
        },
        "outputId": "07539e2b-9144-4e08-f03c-c134c7187dea"
      },
      "source": [
        "print(classification_report(y_real, y_pred))"
      ],
      "execution_count": null,
      "outputs": [
        {
          "output_type": "stream",
          "text": [
            "              precision    recall  f1-score   support\n",
            "\n",
            "           0       0.92      1.00      0.96        23\n",
            "           1       1.00      0.92      0.96        25\n",
            "\n",
            "    accuracy                           0.96        48\n",
            "   macro avg       0.96      0.96      0.96        48\n",
            "weighted avg       0.96      0.96      0.96        48\n",
            "\n"
          ],
          "name": "stdout"
        }
      ]
    },
    {
      "cell_type": "code",
      "metadata": {
        "id": "m43wwpC3TWqO",
        "colab": {
          "base_uri": "https://localhost:8080/"
        },
        "outputId": "7029595a-31c6-4097-beec-6c41c58e2779"
      },
      "source": [
        "model.predict(np.expand_dims(X_test[2], axis=0))"
      ],
      "execution_count": null,
      "outputs": [
        {
          "output_type": "execute_result",
          "data": {
            "text/plain": [
              "array([[1.0000000e+00, 1.0206235e-20]], dtype=float32)"
            ]
          },
          "metadata": {
            "tags": []
          },
          "execution_count": 313
        }
      ]
    },
    {
      "cell_type": "code",
      "metadata": {
        "id": "17DibWp5mE0W",
        "colab": {
          "base_uri": "https://localhost:8080/"
        },
        "outputId": "1b5b9180-2c07-4222-dc58-f0662388d6a9"
      },
      "source": [
        "y_test[2]"
      ],
      "execution_count": null,
      "outputs": [
        {
          "output_type": "execute_result",
          "data": {
            "text/plain": [
              "array([1., 0.], dtype=float32)"
            ]
          },
          "metadata": {
            "tags": []
          },
          "execution_count": 314
        }
      ]
    },
    {
      "cell_type": "code",
      "metadata": {
        "id": "A-rSnPytm98e"
      },
      "source": [
        "from keras.models import load_model\n",
        "model.save('modello.h5')"
      ],
      "execution_count": null,
      "outputs": []
    },
    {
      "cell_type": "code",
      "metadata": {
        "id": "cyyQOqtK_cn3",
        "colab": {
          "base_uri": "https://localhost:8080/"
        },
        "outputId": "eed83e5d-e122-4ebe-9caf-d95a5bd4a41d"
      },
      "source": [
        "import json\n",
        "import numpy as np\n",
        "import pandas as pd\n",
        "\n",
        "from os import listdir\n",
        "from os.path import isfile, join\n",
        "#lista tutti i file dato un percorso\n",
        "def list_all_files(input_path):\n",
        "  files = [join(input_path, f) for f in listdir(input_path) if isfile(join(input_path, f))]\n",
        "  return list(zip(files, listdir(input_path)))\n",
        "\n",
        "def list_all_in_dir(input_path):\n",
        "  files = [join(input_path, f) for f in listdir(input_path)]\n",
        "  return files\n",
        "\n",
        "def angle_between_points( p0, p1, p2 ):\n",
        "  a = (p1[0]-p0[0])**2 + (p1[1]-p0[1])**2\n",
        "  b = (p1[0]-p2[0])**2 + (p1[1]-p2[1])**2\n",
        "  c = (p2[0]-p0[0])**2 + (p2[1]-p0[1])**2\n",
        "  if (a == 0 or b == 0 or c == 0):\n",
        "    return 0 \n",
        "  return  (math.acos( (a+b-c) / math.sqrt(4*a*b) ) * 180 /math.pi)\n",
        "\n",
        "#estrae i dati dal file json\n",
        "def extract_json_detection(file):\n",
        "  with open(file, 'r') as f:\n",
        "    data = json.load(f)\n",
        "    if len(data['people']) == 0: \n",
        "      return [0 for i in range(0, 75)]\n",
        "    data = data[\"people\"][0][\"pose_keypoints_2d\"]\n",
        "  return data\n",
        "\n",
        "angles = [\n",
        "          (0, 1, 8),\n",
        "          (0, 1, 2), \n",
        "          (0, 1, 5),\n",
        "          (1, 2, 3),\n",
        "          (2, 3, 4),\n",
        "          (1, 5, 6),\n",
        "          (5, 6, 7), \n",
        "          (1, 8, 9),\n",
        "          (1, 8, 12), \n",
        "          (8, 9, 10), \n",
        "          (9, 12, 13), \n",
        "          (9, 10, 11), \n",
        "          (12, 13, 14), \n",
        "          (10, 11, 22), \n",
        "          (13, 14, 19)\n",
        "]\n",
        "\n",
        "def calculate_angles(data):\n",
        "  angle_vec = []\n",
        "  for node in angles:\n",
        "    coord = tuple(data[i] for i in node)\n",
        "    angle_vec.append(angle_between_points(*coord))\n",
        "  return angle_vec\n",
        "\n",
        "def coordinate_from_data(data): \n",
        "  del data[2:75:3] \n",
        "  new_data = [ [data[i], data[i+1]] for i in range(0, len(data), 2)]\n",
        "  return new_data\n",
        "\n",
        "keypoints = np.arange(0, 25)\n",
        "video_data = []\n",
        "\n",
        "outputs = sorted(list_all_in_dir(\"/content/Tirocinio/video_test_output\"))\n",
        "for output in outputs:\n",
        "  #print(output)\n",
        "  files = sorted(list_all_files(output))\n",
        "  vec = []\n",
        "  for file in files[:100]:\n",
        "    data = coordinate_from_data(extract_json_detection(file[0]))\n",
        "    #vec.append(cosine_similarity_with_other_kp(data))\n",
        "    vec.append(calculate_angles(data))\n",
        "  video_data.append(vec)\n",
        "\n",
        "\n",
        "\n",
        "video_data = np.array(video_data)\n",
        "print(len(video_data))\n",
        "video_data = scaler.transform(video_data.reshape(-1, video_data.shape[-1])).reshape(video_data.shape)\n",
        "predBefore = model.predict(video_data)\n",
        "pred = [np.argmax(p) for p in predBefore]\n",
        "[print(x, y) for x,y in zip(predBefore, pred)]\n",
        "\n",
        "\n",
        "\n",
        "\n",
        "\n",
        "y_real = [int(out.split(\"_\")[-1]) for out in outputs]\n",
        "\n",
        "[print(p, r) for p,r in zip(pred,y_real)]\n",
        "\n",
        "\n",
        "from sklearn.metrics import confusion_matrix, f1_score, classification_report\n",
        "confusion_matrix(y_real, pred)"
      ],
      "execution_count": null,
      "outputs": [
        {
          "output_type": "stream",
          "text": [
            "45\n",
            "[1.00000e+00 2.42943e-16] 0\n",
            "[1.0000000e+00 3.1998882e-16] 0\n",
            "[1.0000000e+00 5.1437533e-15] 0\n",
            "[1.0000000e+00 2.7123826e-19] 0\n",
            "[1.000000e+00 8.515423e-17] 0\n",
            "[1.0000000e+00 3.6514945e-13] 0\n",
            "[9.9997759e-01 2.2429705e-05] 0\n",
            "[1.0000000e+00 1.9672093e-09] 0\n",
            "[1.000000e+00 7.708155e-10] 0\n",
            "[9.999995e-01 4.319412e-07] 0\n",
            "[1.0000000e+00 1.0431211e-15] 0\n",
            "[1.0000000e+00 1.0311036e-12] 0\n",
            "[1.00000e+00 6.81303e-18] 0\n",
            "[1.00000e+00 9.83003e-12] 0\n",
            "[9.9959856e-01 4.0141083e-04] 0\n",
            "[1.000000e+00 9.487688e-10] 0\n",
            "[1.0000000e+00 1.9909615e-15] 0\n",
            "[1.0000000e+00 5.6129504e-19] 0\n",
            "[1.000000e+00 2.414227e-13] 0\n",
            "[1.0000000e+00 2.0750296e-10] 0\n",
            "[1.0000000e+00 3.2239924e-14] 0\n",
            "[9.9999976e-01 2.1779834e-07] 0\n",
            "[9.9999917e-01 8.6911911e-07] 0\n",
            "[1.0000000e+00 1.9455448e-16] 0\n",
            "[1.0000000e+00 2.7366992e-14] 0\n",
            "[1.7128104e-06 9.9999833e-01] 1\n",
            "[0.02259239 0.97740763] 1\n",
            "[4.3770001e-16 1.0000000e+00] 1\n",
            "[3.1466489e-06 9.9999690e-01] 1\n",
            "[5.5447087e-09 1.0000000e+00] 1\n",
            "[2.0316902e-07 9.9999976e-01] 1\n",
            "[8.538748e-04 9.991461e-01] 1\n",
            "[4.7833926e-10 1.0000000e+00] 1\n",
            "[2.0295913e-11 1.0000000e+00] 1\n",
            "[2.1495868e-08 1.0000000e+00] 1\n",
            "[1.4578574e-06 9.9999857e-01] 1\n",
            "[8.482409e-08 9.999999e-01] 1\n",
            "[2.3301618e-07 9.9999976e-01] 1\n",
            "[2.450071e-10 1.000000e+00] 1\n",
            "[9.874977e-09 1.000000e+00] 1\n",
            "[1.0187641e-09 1.0000000e+00] 1\n",
            "[0.93669564 0.06330438] 0\n",
            "[0.29821965 0.7017804 ] 1\n",
            "[1.1145212e-05 9.9998891e-01] 1\n",
            "[1.5945142e-07 9.9999988e-01] 1\n",
            "0 0\n",
            "0 0\n",
            "0 0\n",
            "0 0\n",
            "0 0\n",
            "0 0\n",
            "0 0\n",
            "0 0\n",
            "0 0\n",
            "0 0\n",
            "0 0\n",
            "0 0\n",
            "0 0\n",
            "0 0\n",
            "0 0\n",
            "0 0\n",
            "0 0\n",
            "0 0\n",
            "0 0\n",
            "0 0\n",
            "0 0\n",
            "0 0\n",
            "0 0\n",
            "0 0\n",
            "0 0\n",
            "1 1\n",
            "1 1\n",
            "1 1\n",
            "1 1\n",
            "1 1\n",
            "1 1\n",
            "1 1\n",
            "1 1\n",
            "1 1\n",
            "1 1\n",
            "1 1\n",
            "1 1\n",
            "1 1\n",
            "1 1\n",
            "1 1\n",
            "1 1\n",
            "0 1\n",
            "1 1\n",
            "1 1\n",
            "1 1\n"
          ],
          "name": "stdout"
        },
        {
          "output_type": "execute_result",
          "data": {
            "text/plain": [
              "array([[25,  0],\n",
              "       [ 1, 19]])"
            ]
          },
          "metadata": {
            "tags": []
          },
          "execution_count": 316
        }
      ]
    },
    {
      "cell_type": "code",
      "metadata": {
        "id": "JxjwMuY6rSmD",
        "colab": {
          "base_uri": "https://localhost:8080/"
        },
        "outputId": "81310443-948c-4ffe-8ef0-745460014cbc"
      },
      "source": [
        "print(list(zip(pred, outputs)))"
      ],
      "execution_count": null,
      "outputs": [
        {
          "output_type": "stream",
          "text": [
            "[(0, '/content/Tirocinio/video_test_output/video_192_0'), (0, '/content/Tirocinio/video_test_output/video_193_0'), (0, '/content/Tirocinio/video_test_output/video_194_0'), (0, '/content/Tirocinio/video_test_output/video_195_0'), (0, '/content/Tirocinio/video_test_output/video_196_0'), (0, '/content/Tirocinio/video_test_output/video_197_0'), (0, '/content/Tirocinio/video_test_output/video_198_0'), (0, '/content/Tirocinio/video_test_output/video_199_0'), (0, '/content/Tirocinio/video_test_output/video_200_0'), (0, '/content/Tirocinio/video_test_output/video_201_0'), (0, '/content/Tirocinio/video_test_output/video_202_0'), (0, '/content/Tirocinio/video_test_output/video_203_0'), (0, '/content/Tirocinio/video_test_output/video_204_0'), (0, '/content/Tirocinio/video_test_output/video_205_0'), (0, '/content/Tirocinio/video_test_output/video_206_0'), (0, '/content/Tirocinio/video_test_output/video_207_0'), (0, '/content/Tirocinio/video_test_output/video_208_0'), (0, '/content/Tirocinio/video_test_output/video_209_0'), (0, '/content/Tirocinio/video_test_output/video_210_0'), (0, '/content/Tirocinio/video_test_output/video_211_0'), (0, '/content/Tirocinio/video_test_output/video_212_0'), (0, '/content/Tirocinio/video_test_output/video_213_0'), (0, '/content/Tirocinio/video_test_output/video_214_0'), (0, '/content/Tirocinio/video_test_output/video_215_0'), (0, '/content/Tirocinio/video_test_output/video_216_0'), (1, '/content/Tirocinio/video_test_output/video_217_1'), (1, '/content/Tirocinio/video_test_output/video_218_1'), (1, '/content/Tirocinio/video_test_output/video_219_1'), (1, '/content/Tirocinio/video_test_output/video_220_1'), (1, '/content/Tirocinio/video_test_output/video_221_1'), (1, '/content/Tirocinio/video_test_output/video_222_1'), (1, '/content/Tirocinio/video_test_output/video_223_1'), (1, '/content/Tirocinio/video_test_output/video_224_1'), (1, '/content/Tirocinio/video_test_output/video_225_1'), (1, '/content/Tirocinio/video_test_output/video_226_1'), (1, '/content/Tirocinio/video_test_output/video_227_1'), (1, '/content/Tirocinio/video_test_output/video_228_1'), (1, '/content/Tirocinio/video_test_output/video_229_1'), (1, '/content/Tirocinio/video_test_output/video_230_1'), (1, '/content/Tirocinio/video_test_output/video_231_1'), (1, '/content/Tirocinio/video_test_output/video_232_1'), (0, '/content/Tirocinio/video_test_output/video_233_1'), (1, '/content/Tirocinio/video_test_output/video_234_1'), (1, '/content/Tirocinio/video_test_output/video_235_1'), (1, '/content/Tirocinio/video_test_output/video_236_1')]\n"
          ],
          "name": "stdout"
        }
      ]
    },
    {
      "cell_type": "code",
      "metadata": {
        "id": "pkaTuSMt0_hu"
      },
      "source": [
        ""
      ],
      "execution_count": null,
      "outputs": []
    },
    {
      "cell_type": "code",
      "metadata": {
        "colab": {
          "base_uri": "https://localhost:8080/"
        },
        "id": "tM0zb44jQHo9",
        "outputId": "e3e2ba80-81ee-4503-9233-b782ac786732"
      },
      "source": [
        "files = sorted(list_all_files(\"/content/Tirocinio/video_test_output/video_235_1\"))\n",
        "video = []\n",
        "for file in files[:100]:\n",
        "  data = coordinate_from_data(extract_json_detection(file[0]))\n",
        "  video.append(calculate_angles(data)) \n",
        "video = scaler.fit_transform(video)\n",
        "model.predict(np.expand_dims(video, axis=0))"
      ],
      "execution_count": null,
      "outputs": [
        {
          "output_type": "execute_result",
          "data": {
            "text/plain": [
              "array([[1.8358203e-06, 9.9999821e-01]], dtype=float32)"
            ]
          },
          "metadata": {
            "tags": []
          },
          "execution_count": 318
        }
      ]
    },
    {
      "cell_type": "code",
      "metadata": {
        "id": "LtWSphm_aJZq"
      },
      "source": [
        "video = scaler.fit_transform(video)"
      ],
      "execution_count": null,
      "outputs": []
    },
    {
      "cell_type": "code",
      "metadata": {
        "colab": {
          "base_uri": "https://localhost:8080/"
        },
        "id": "2NgI-f-jaaxC",
        "outputId": "64815470-603c-42b8-9c6c-a06ae0de1c96"
      },
      "source": [
        "for x in sorted(list_all_in_dir(\"/content/Tirocinio/video_test_output/\")):\n",
        "  files = sorted(list_all_files(x))\n",
        "  video = []\n",
        "  for file in files[:100]:\n",
        "    data = coordinate_from_data(extract_json_detection(file[0]))\n",
        "    video.append(calculate_angles(data)) \n",
        "  video = scaler.fit_transform(video)\n",
        "  print( x.split(\"/\")[-1], \" --------\", model.predict(np.expand_dims(video, axis=0)))"
      ],
      "execution_count": null,
      "outputs": [
        {
          "output_type": "stream",
          "text": [
            "video_192_0  -------- [[9.9999976e-01 2.5827592e-07]]\n",
            "video_193_0  -------- [[1.000000e+00 1.690652e-11]]\n",
            "video_194_0  -------- [[9.999999e-01 7.105820e-08]]\n",
            "video_195_0  -------- [[1.000000e+00 6.003532e-13]]\n",
            "video_196_0  -------- [[9.9999881e-01 1.1367414e-06]]\n",
            "video_197_0  -------- [[1.000000e+00 6.830184e-09]]\n",
            "video_198_0  -------- [[0.9227521  0.07724798]]\n",
            "video_199_0  -------- [[9.9999988e-01 1.4924106e-07]]\n",
            "video_200_0  -------- [[9.99987721e-01 1.23347745e-05]]\n",
            "video_201_0  -------- [[9.9999928e-01 7.2647623e-07]]\n",
            "video_202_0  -------- [[9.9999976e-01 1.9584616e-07]]\n",
            "video_203_0  -------- [[1.000000e+00 2.381386e-09]]\n",
            "video_204_0  -------- [[1.00000e+00 3.04641e-08]]\n",
            "video_205_0  -------- [[1.0000000e+00 2.6940075e-11]]\n",
            "video_206_0  -------- [[9.9983668e-01 1.6333851e-04]]\n",
            "video_207_0  -------- [[1.000000e+00 8.940291e-09]]\n",
            "video_208_0  -------- [[1.0000000e+00 1.5353324e-08]]\n",
            "video_209_0  -------- [[1.0000000e+00 2.3093767e-10]]\n",
            "video_210_0  -------- [[9.999609e-01 3.908083e-05]]\n",
            "video_211_0  -------- [[1.0000000e+00 6.1621126e-09]]\n",
            "video_212_0  -------- [[9.994423e-01 5.577565e-04]]\n",
            "video_213_0  -------- [[0.9475251  0.05247496]]\n",
            "video_214_0  -------- [[9.994535e-01 5.465565e-04]]\n",
            "video_215_0  -------- [[1.0000000e+00 2.1215407e-10]]\n",
            "video_216_0  -------- [[1.0000000e+00 4.9792323e-12]]\n",
            "video_217_1  -------- [[3.4255016e-04 9.9965739e-01]]\n",
            "video_218_1  -------- [[0.9906687  0.00933135]]\n",
            "video_219_1  -------- [[0.04880693 0.9511931 ]]\n",
            "video_220_1  -------- [[0.00593145 0.9940686 ]]\n",
            "video_221_1  -------- [[0.9773933  0.02260675]]\n",
            "video_222_1  -------- [[0.00448874 0.9955113 ]]\n",
            "video_223_1  -------- [[6.6233054e-04 9.9933761e-01]]\n",
            "video_224_1  -------- [[0.9913053  0.00869462]]\n",
            "video_225_1  -------- [[0.10929663 0.8907034 ]]\n",
            "video_226_1  -------- [[0.94387525 0.0561248 ]]\n",
            "video_227_1  -------- [[7.1795679e-05 9.9992824e-01]]\n",
            "video_228_1  -------- [[9.9996793e-01 3.2092990e-05]]\n",
            "video_229_1  -------- [[4.1355964e-04 9.9958640e-01]]\n",
            "video_230_1  -------- [[9.9987662e-01 1.2338847e-04]]\n",
            "video_231_1  -------- [[0.02483403 0.97516596]]\n",
            "video_232_1  -------- [[5.0239579e-04 9.9949753e-01]]\n",
            "video_233_1  -------- [[9.999999e-01 9.981003e-08]]\n",
            "video_234_1  -------- [[0.48854333 0.5114567 ]]\n",
            "video_235_1  -------- [[1.8358203e-06 9.9999821e-01]]\n",
            "video_236_1  -------- [[0.00890315 0.99109685]]\n"
          ],
          "name": "stdout"
        }
      ]
    },
    {
      "cell_type": "code",
      "metadata": {
        "id": "T1-lIajhazG1"
      },
      "source": [
        ""
      ],
      "execution_count": null,
      "outputs": []
    }
  ]
}